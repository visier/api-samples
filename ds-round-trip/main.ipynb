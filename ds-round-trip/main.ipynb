{
 "cells": [
  {
   "cell_type": "markdown",
   "id": "c057e927",
   "metadata": {},
   "source": [
    "## Pay transparency data science round trip"
   ]
  },
  {
   "cell_type": "code",
   "execution_count": 1,
   "id": "448dc575-176b-4707-a2cc-e4584496fabf",
   "metadata": {
    "tags": []
   },
   "outputs": [],
   "source": [
    "from datetime import date, datetime\n",
    "import numpy as np\n",
    "from visier_api_data_out import QueryFilterDTO\n",
    "from sklearn.preprocessing import OneHotEncoder, StandardScaler\n",
    "from sklearn.pipeline import FeatureUnion\n",
    "from sklearn.compose import ColumnTransformer\n",
    "\n",
    "from visier_api import VisierApi\n",
    "from model import Model"
   ]
  },
  {
   "cell_type": "code",
   "execution_count": 2,
   "id": "1fdab808",
   "metadata": {},
   "outputs": [],
   "source": [
    "# file name must be the analytic object name, and in CSV format\n",
    "FILE_PATH = './data/Employee.csv'\n",
    "# This is the end time for the query\n",
    "QUERY_END_TIME = date(2022, 5, 1)\n",
    "\n",
    "visier_api: VisierApi = VisierApi()"
   ]
  },
  {
   "cell_type": "markdown",
   "id": "12463f1f",
   "metadata": {},
   "source": [
    "# Prepare for the input data"
   ]
  },
  {
   "cell_type": "markdown",
   "id": "891708c4",
   "metadata": {},
   "source": [
    "To explore what data is available in a tenant, we could list properties with the `DataModelApi`."
   ]
  },
  {
   "cell_type": "code",
   "execution_count": 3,
   "id": "2891ab58",
   "metadata": {},
   "outputs": [
    {
     "data": {
      "text/plain": [
       "[PropertyDTO(data_type='String', description='The unique identifier for the employee.', display_name='Employee ID', id='Employee.EmployeeID', parameters=None, primitive_data_type='String', tags=None)]"
      ]
     },
     "execution_count": 3,
     "metadata": {},
     "output_type": "execute_result"
    }
   ],
   "source": [
    "schema = visier_api.list_data_model_properties(analytic_object='Employee').properties\n",
    "list(filter(lambda x: x.id == \"Employee.EmployeeID\", schema))"
   ]
  },
  {
   "cell_type": "markdown",
   "id": "6ac766c9",
   "metadata": {},
   "source": [
    "Then we can compose a list query execution DTO for prediction analysis.\n",
    "\n",
    "We query the attributes that we are interested as feature attributes:\n",
    "- isFemale, Employee.Internal_Job_Experience, Highest_Education_Level_Achieved, Internal_Experience, External_Experience\n",
    "\n",
    "and the training target attribute:\n",
    "- Market_Direct_Compensation"
   ]
  },
  {
   "cell_type": "code",
   "execution_count": 4,
   "id": "80c82a1f",
   "metadata": {},
   "outputs": [
    {
     "data": {
      "text/html": [
       "<div>\n",
       "<style scoped>\n",
       "    .dataframe tbody tr th:only-of-type {\n",
       "        vertical-align: middle;\n",
       "    }\n",
       "\n",
       "    .dataframe tbody tr th {\n",
       "        vertical-align: top;\n",
       "    }\n",
       "\n",
       "    .dataframe thead th {\n",
       "        text-align: right;\n",
       "    }\n",
       "</style>\n",
       "<table border=\"1\" class=\"dataframe\">\n",
       "  <thead>\n",
       "    <tr style=\"text-align: right;\">\n",
       "      <th></th>\n",
       "      <th>EmployeeID</th>\n",
       "      <th>IsWoman</th>\n",
       "      <th>TimeInPosition</th>\n",
       "      <th>Education</th>\n",
       "      <th>OtherTenure</th>\n",
       "      <th>ExternalExperience</th>\n",
       "      <th>DirectCompensation</th>\n",
       "    </tr>\n",
       "  </thead>\n",
       "  <tbody>\n",
       "    <tr>\n",
       "      <th>0</th>\n",
       "      <td>Employee-29191448</td>\n",
       "      <td>True</td>\n",
       "      <td>0</td>\n",
       "      <td>NaN</td>\n",
       "      <td>0</td>\n",
       "      <td>93</td>\n",
       "      <td>53506.95</td>\n",
       "    </tr>\n",
       "    <tr>\n",
       "      <th>1</th>\n",
       "      <td>Employee-121619</td>\n",
       "      <td>False</td>\n",
       "      <td>51</td>\n",
       "      <td>Bachelor</td>\n",
       "      <td>36</td>\n",
       "      <td>242</td>\n",
       "      <td>192529.79</td>\n",
       "    </tr>\n",
       "    <tr>\n",
       "      <th>2</th>\n",
       "      <td>Employee-13488561</td>\n",
       "      <td>False</td>\n",
       "      <td>13</td>\n",
       "      <td>NaN</td>\n",
       "      <td>12</td>\n",
       "      <td>78</td>\n",
       "      <td>162770.92</td>\n",
       "    </tr>\n",
       "    <tr>\n",
       "      <th>3</th>\n",
       "      <td>Employee-25314844</td>\n",
       "      <td>False</td>\n",
       "      <td>5</td>\n",
       "      <td>NaN</td>\n",
       "      <td>0</td>\n",
       "      <td>119</td>\n",
       "      <td>93397.76</td>\n",
       "    </tr>\n",
       "    <tr>\n",
       "      <th>4</th>\n",
       "      <td>Employee-22613614</td>\n",
       "      <td>False</td>\n",
       "      <td>10</td>\n",
       "      <td>NaN</td>\n",
       "      <td>0</td>\n",
       "      <td>132</td>\n",
       "      <td>64003.77</td>\n",
       "    </tr>\n",
       "  </tbody>\n",
       "</table>\n",
       "</div>"
      ],
      "text/plain": [
       "          EmployeeID  IsWoman  TimeInPosition Education  OtherTenure  \\\n",
       "0  Employee-29191448     True               0       NaN            0   \n",
       "1    Employee-121619    False              51  Bachelor           36   \n",
       "2  Employee-13488561    False              13       NaN           12   \n",
       "3  Employee-25314844    False               5       NaN            0   \n",
       "4  Employee-22613614    False              10       NaN            0   \n",
       "\n",
       "   ExternalExperience  DirectCompensation  \n",
       "0                  93            53506.95  \n",
       "1                 242           192529.79  \n",
       "2                  78           162770.92  \n",
       "3                 119            93397.76  \n",
       "4                 132            64003.77  "
      ]
     },
     "execution_count": 4,
     "metadata": {},
     "output_type": "execute_result"
    }
   ],
   "source": [
    "# Fetch data from the public API \n",
    "execution = visier_api.compose_list_query_execution_dto(\n",
    "    columns=[\n",
    "        {\"displayName\": \"EmployeeID\", \"attribute\": \"EmployeeID\"},\n",
    "        {\"displayName\": \"IsWoman\", \"attribute\": \"isFemale\"},\n",
    "        {\"displayName\": \"TimeInPosition\", \"attribute\": \"Employee.Internal_Job_Experience\"},\n",
    "        {\"displayName\": \"Education\", \"attribute\": \"Highest_Education_Level_Achieved\"},\n",
    "        {\"displayName\": \"OtherTenure\", \"attribute\": \"Internal_Experience\"},\n",
    "        {\"displayName\": \"ExternalExperience\", \"attribute\": \"External_Experience\"},\n",
    "        {\"displayName\": \"DirectCompensation\", \"attribute\": \"Market_Direct_Compensation\"},\n",
    "    ],\n",
    "    end_time=datetime.strftime(QUERY_END_TIME, \"%Y-%m-%d\"),\n",
    "    filters = [QueryFilterDTO(formula='Currency_Code=\"USD\"')]\n",
    ")\n",
    "\n",
    "df = visier_api.download_data(execution)\n",
    "df.head(5)"
   ]
  },
  {
   "cell_type": "markdown",
   "id": "0dd8b1c3",
   "metadata": {},
   "source": [
    "Slice the dataframe for prediction model input(X) and output(y)."
   ]
  },
  {
   "cell_type": "code",
   "execution_count": 5,
   "id": "237c35f9",
   "metadata": {},
   "outputs": [
    {
     "data": {
      "text/plain": [
       "((1860, 5), (1860,))"
      ]
     },
     "execution_count": 5,
     "metadata": {},
     "output_type": "execute_result"
    }
   ],
   "source": [
    "PREDICTION_INPUT_COLUMNS = frozenset([\n",
    "    'IsWoman', \n",
    "    'Education', \n",
    "    'TimeInPosition', \n",
    "    'OtherTenure', \n",
    "    'ExternalExperience'\n",
    "])\n",
    "\n",
    "X, y = df[PREDICTION_INPUT_COLUMNS], df['DirectCompensation']\n",
    "\n",
    "X.shape, y.shape"
   ]
  },
  {
   "cell_type": "markdown",
   "id": "cbb74653-3863-44d1-8f9c-52f741d6d527",
   "metadata": {},
   "source": [
    "# Regression model\n",
    "Define regression model model"
   ]
  },
  {
   "cell_type": "code",
   "execution_count": 6,
   "id": "f1eeb49f-ef14-411c-80f6-d0478b491305",
   "metadata": {
    "tags": []
   },
   "outputs": [],
   "source": [
    "## define feature processing pipeline\n",
    "features = FeatureUnion(\n",
    "    [\n",
    "        (\"IsWoman\", ColumnTransformer([\n",
    "            (\"one_hot\",OneHotEncoder(\n",
    "                handle_unknown=\"ignore\", drop=\"first\", dtype=np.float32\n",
    "            ), [\"IsWoman\"])])\n",
    "        ),\n",
    "        (\"Education\", ColumnTransformer([\n",
    "            (\"one_hot\",OneHotEncoder(\n",
    "                handle_unknown=\"ignore\", drop=\"first\", dtype=np.float32\n",
    "            ), [\"Education\"])])\n",
    "        ),\n",
    "        (\"TimeInPosition\", ColumnTransformer([\n",
    "            (\"scale\",StandardScaler(),[\"TimeInPosition\"])\n",
    "        ])),\n",
    "        (\"OtherTenure\", ColumnTransformer([\n",
    "            (\"scale\",StandardScaler(),[\"OtherTenure\"])\n",
    "        ])),\n",
    "        (\"ExternalExperience\", ColumnTransformer([\n",
    "            (\"scale\",StandardScaler(),[\"ExternalExperience\"])\n",
    "        ])),\n",
    "    ]\n",
    ")\n",
    "\n",
    "model = Model(features)"
   ]
  },
  {
   "cell_type": "markdown",
   "id": "c734034f-508e-4cc6-b6e2-3db8eea67cfe",
   "metadata": {
    "tags": []
   },
   "source": [
    "# Model validation"
   ]
  },
  {
   "cell_type": "markdown",
   "id": "4f08e692-7574-4939-aa58-1e98b59313ae",
   "metadata": {},
   "source": [
    "Validate model and measure model performance"
   ]
  },
  {
   "cell_type": "code",
   "execution_count": 7,
   "id": "ba1e02c9-56ae-428c-ad7a-3305f6fda717",
   "metadata": {
    "tags": []
   },
   "outputs": [
    {
     "name": "stdout",
     "output_type": "stream",
     "text": [
      "[CV] START .....................................................................\n",
      "[CV] END  explained_variance: (train=0.282, test=0.337) neg_mean_absolute_error: (train=-36866.416, test=-38208.443) neg_mean_squared_error: (train=-5488562886.118, test=-6180789174.319) r2: (train=0.268, test=0.324) total time=   0.0s\n",
      "[CV] START .....................................................................\n",
      "[CV] END  explained_variance: (train=0.341, test=0.253) neg_mean_absolute_error: (train=-36357.616, test=-38828.778) neg_mean_squared_error: (train=-6194645638.773, test=-4367417226.424) r2: (train=0.329, test=0.229) total time=   0.0s\n",
      "[CV] START .....................................................................\n",
      "[CV] END  explained_variance: (train=0.324, test=0.292) neg_mean_absolute_error: (train=-38070.202, test=-35562.473) neg_mean_squared_error: (train=-5123962993.144, test=-6691398035.895) r2: (train=0.308, test=0.282) total time=   0.0s\n"
     ]
    },
    {
     "name": "stderr",
     "output_type": "stream",
     "text": [
      "[Parallel(n_jobs=1)]: Done   1 tasks      | elapsed:    0.0s\n"
     ]
    },
    {
     "data": {
      "text/plain": [
       "{'fit_time': np.float64(0.009179910024007162),\n",
       " 'score_time': np.float64(0.004883368810017903),\n",
       " 'test_r2': np.float64(0.2784647984753941),\n",
       " 'train_r2': np.float64(0.3017514582634106),\n",
       " 'test_neg_mean_squared_error': np.float64(-5746534812.212598),\n",
       " 'train_neg_mean_squared_error': np.float64(-5602390506.011748),\n",
       " 'test_neg_mean_absolute_error': np.float64(-37533.23137003673),\n",
       " 'train_neg_mean_absolute_error': np.float64(-37098.078018933076),\n",
       " 'test_explained_variance': np.float64(0.29403552177286335),\n",
       " 'train_explained_variance': np.float64(0.3156941644581215)}"
      ]
     },
     "execution_count": 7,
     "metadata": {},
     "output_type": "execute_result"
    }
   ],
   "source": [
    "model.evaluate(X,y)"
   ]
  },
  {
   "cell_type": "markdown",
   "id": "332d71af-410a-4140-83ef-b29f820781d8",
   "metadata": {},
   "source": [
    "# Model training & inference\n",
    "Fit model and view coefficients"
   ]
  },
  {
   "cell_type": "code",
   "execution_count": 8,
   "id": "2e8f1e55-8590-4e64-9a5e-e17b4118c920",
   "metadata": {
    "tags": []
   },
   "outputs": [
    {
     "data": {
      "text/plain": [
       "array([-0.01533487,  0.00240708,  0.15020224,  0.12551257,  0.2097119 ,\n",
       "        0.19642017,  0.07297258,  0.11740238,  0.18639227])"
      ]
     },
     "execution_count": 8,
     "metadata": {},
     "output_type": "execute_result"
    }
   ],
   "source": [
    "model.fit(X,y)\n",
    "model[\"regressor\"].regressor_.coef_.astype(float)"
   ]
  },
  {
   "cell_type": "markdown",
   "id": "a9ae621d-2768-4c9b-903f-948a7d49ae46",
   "metadata": {},
   "source": [
    "Use model for inference and evaluate the result, and assigned it as a new column in df"
   ]
  },
  {
   "cell_type": "code",
   "execution_count": 9,
   "id": "4247e8d5-3af0-44ac-ba7c-a136508d08c0",
   "metadata": {
    "scrolled": true,
    "tags": []
   },
   "outputs": [],
   "source": [
    "df['Predicted'] = model.predict(X)"
   ]
  },
  {
   "cell_type": "markdown",
   "id": "6d9f574f",
   "metadata": {},
   "source": [
    "Save the model, so we can persist the coeffiencient and reproduce the results with the same input"
   ]
  },
  {
   "cell_type": "code",
   "execution_count": 10,
   "id": "9e7b5726",
   "metadata": {},
   "outputs": [],
   "source": [
    "model.save()\n",
    "\n",
    "# To load the model, simply:\n",
    "# model2 = Model('data/model.2024-09-01.pkl')\n",
    "#\n",
    "# And to reproduce the result:\n",
    "# model2.predict(X)"
   ]
  },
  {
   "cell_type": "markdown",
   "id": "e6787aa3",
   "metadata": {},
   "source": [
    "# Save Output"
   ]
  },
  {
   "cell_type": "markdown",
   "id": "e59b9e4a",
   "metadata": {},
   "source": [
    "Get the project schema from the tenant"
   ]
  },
  {
   "cell_type": "code",
   "execution_count": 11,
   "id": "0b244b96",
   "metadata": {},
   "outputs": [
    {
     "data": {
      "text/plain": [
       "['EmployeeID', 'Market_Direct_Compensation', 'EventDate']"
      ]
     },
     "execution_count": 11,
     "metadata": {},
     "output_type": "execute_result"
    }
   ],
   "source": [
    "(schema_columns := [\n",
    "    s.name\n",
    "    for s in visier_api.list_project_schema()\n",
    "    if s.is_mandatory or \"Market_Direct_Compensation\" in s.name\n",
    "])"
   ]
  },
  {
   "cell_type": "markdown",
   "id": "3fa707c3",
   "metadata": {},
   "source": [
    "Message the prediction data so it matches the tenant's schema requirements."
   ]
  },
  {
   "cell_type": "code",
   "execution_count": null,
   "id": "e4312e10",
   "metadata": {},
   "outputs": [],
   "source": [
    "# Convert the dataframe to the expected format\n",
    "CURRENT_TIME = datetime.now()\n",
    "output = df[['EmployeeID', 'Predicted']]\n",
    "output['EventDate'] = datetime.strftime(datetime(2022,7,1), \"%Y-%m-%d\")\n",
    "# output['regressionRanDate'] = CURRENT_TIME\n",
    "output.rename(columns={\n",
    "    'EmployeeID': 'EmployeeID',\n",
    "    'EventDate': 'EventDate',\n",
    "    'Predicted': 'Market_Direct_Compensation'\n",
    "}, inplace=True)\n",
    "assert set(output.columns) == set(schema_columns)\n",
    "\n",
    "# Save the output\n",
    "output.to_csv(FILE_PATH, index=False)"
   ]
  },
  {
   "cell_type": "markdown",
   "id": "4cf941fd",
   "metadata": {},
   "source": [
    "# Upload the result to the application"
   ]
  },
  {
   "cell_type": "code",
   "execution_count": 12,
   "id": "039a96b6",
   "metadata": {},
   "outputs": [
    {
     "name": "stdout",
     "output_type": "stream",
     "text": [
      "Transaction status: SUCCEEDED, message: ReceivingDataJob scheduled\n"
     ]
    }
   ],
   "source": [
    "tx_id = visier_api.upload_data(FILE_PATH, analytic_object_name='Employee')"
   ]
  }
 ],
 "metadata": {
  "kernelspec": {
   "display_name": "Python 3 (ipykernel)",
   "language": "python",
   "name": "python3"
  },
  "language_info": {
   "codemirror_mode": {
    "name": "ipython",
    "version": 3
   },
   "file_extension": ".py",
   "mimetype": "text/x-python",
   "name": "python",
   "nbconvert_exporter": "python",
   "pygments_lexer": "ipython3",
   "version": "3.10.14"
  }
 },
 "nbformat": 4,
 "nbformat_minor": 5
}
